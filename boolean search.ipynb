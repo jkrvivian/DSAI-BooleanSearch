{
 "cells": [
  {
   "cell_type": "markdown",
   "metadata": {},
   "source": [
    "# Boolean Search\n",
    "\n",
    "## input source file\n",
    "A 100,000 news titles csv file in Chinese. Including some English phrases.\n",
    "\n",
    "## query file\n",
    "A txt file with 11 queries.\n",
    "```\n",
    "川普 and 美國                                                                               \n",
    "電玩 and 宅男\n",
    "美國 and 北韓\n",
    "美國 or 台灣 or 中國\n",
    "母親節 and 禮物\n",
    "職籃 or 職棒\n",
    "蔡英文 and 美國\n",
    "台灣 and GDP \n",
    "川普 not 美國\n",
    "NBA or MLB \n",
    "NBA and 大三元\n",
    "```\n",
    "\n",
    "## Brutal method\n",
    "The Brutal method first came to my mind. The strategy is below:\n",
    "1. read in all source title and put it in dictionary\n",
    "2. parse query\n",
    "3. search every term through title dictionary\n",
    "4. merge results depends on different operations\n",
    "\n",
    "\n",
    "### library"
   ]
  },
  {
   "cell_type": "code",
   "execution_count": 1,
   "metadata": {},
   "outputs": [],
   "source": [
    "import pandas                                                                               \n",
    "import numpy as np\n",
    "import time"
   ]
  },
  {
   "cell_type": "markdown",
   "metadata": {},
   "source": [
    "### read files\n",
    "\n",
    "I also use time package to measure the time of building a search engine.\n",
    "But in brutal method it's just reading files."
   ]
  },
  {
   "cell_type": "code",
   "execution_count": 3,
   "metadata": {},
   "outputs": [
    {
     "name": "stdout",
     "output_type": "stream",
     "text": [
      "Build time:  0.18005633354187012  sec\n"
     ]
    }
   ],
   "source": [
    "# load source data, build search engine\n",
    "start = time.time()\n",
    "source = pandas.read_csv(\"source.csv\", header=None, names=[\"num\", \"title\"], dtype={\"num\": np.int})\n",
    "source = source.set_index(\"num\")[\"title\"].to_dict()\n",
    "print(\"Build time: \", time.time() - start, \" sec\")\n",
    "\n",
    "# compute query result\n",
    "query = pandas.read_csv(\"query.txt\", header=None, names=[\"query\"])\n",
    "query = query[\"query\"].tolist() "
   ]
  },
  {
   "cell_type": "markdown",
   "metadata": {},
   "source": [
    "### search all title \n",
    "This function is to find out the number of title that includes the query term."
   ]
  },
  {
   "cell_type": "code",
   "execution_count": 4,
   "metadata": {},
   "outputs": [],
   "source": [
    "def search_title(source, query):\n",
    "    ret = []                                                                                \n",
    "    for i in range(1, len(source)):\n",
    "        if source[i].find(query) != -1:\n",
    "            ret.append(i)\n",
    "    return ret"
   ]
  },
  {
   "cell_type": "markdown",
   "metadata": {},
   "source": [
    "### merge query results\n",
    "This is to get the final answers of each query."
   ]
  },
  {
   "cell_type": "code",
   "execution_count": 5,
   "metadata": {},
   "outputs": [],
   "source": [
    "def get_response(source, query):\n",
    "    q = query.split()\n",
    "    opt = q[1]\n",
    "    result = []\n",
    "    ans = []\n",
    "    for i in range(0, len(q)):\n",
    "        if i % 2 == 0:\n",
    "            result.append(search_title(source, q[i]))\n",
    "    ans = result[0]\n",
    "\n",
    "    if opt == \"and\":\n",
    "        for l in range(1, len(result)):\n",
    "            for a in ans[:]:\n",
    "                if a not in result[l]:\n",
    "                    ans.remove(a)\n",
    "    elif opt == \"or\":\n",
    "        for j in range(1, len(result)):\n",
    "            ans = ans + result[j]\n",
    "        ans = sorted(list(set(ans)))\n",
    "    else:\n",
    "        for l in range(1, len(result)):\n",
    "            for a in ans[:]:\n",
    "                if a in result[l]:\n",
    "                    ans.remove(a)\n",
    "    return ans"
   ]
  },
  {
   "cell_type": "markdown",
   "metadata": {},
   "source": [
    "### Brutal method results"
   ]
  },
  {
   "cell_type": "code",
   "execution_count": 7,
   "metadata": {},
   "outputs": [
    {
     "name": "stdout",
     "output_type": "stream",
     "text": [
      "Search time:  0.6353840827941895  sec\n"
     ]
    }
   ],
   "source": [
    "with open(\"output.txt\", 'w') as output_file:\n",
    "        start = time.time()\n",
    "        for i in range(0, len(query)):\n",
    "            if i != 0:\n",
    "                output_file.write(\"\\n\")\n",
    "            result = get_response(source, query[i])\n",
    "            if len(result) == 0:\n",
    "                output_file.write(\"0\");\n",
    "            else:\n",
    "                output_file.write(\",\".join(str(x) for x in result))\n",
    "        print(\"Search time: \", time.time() - start, \" sec\")"
   ]
  },
  {
   "attachments": {
    "2018-04-03%2011-18-29%20%E7%9A%84%E8%9E%A2%E5%B9%95%E6%93%B7%E5%9C%96.png": {
     "image/png": "[encoded data removed]"
    }
   },
   "cell_type": "markdown",
   "metadata": {},
   "source": [
    "I choose dictionary as my data structure. Since dictionary has been implemented with hash function, thus no matter is append or search time only take O(1) time complexity for best case if the hash disturibution is great.\n",
    "![2018-04-03%2011-18-29%20%E7%9A%84%E8%9E%A2%E5%B9%95%E6%93%B7%E5%9C%96.png](attachment:2018-04-03%2011-18-29%20%E7%9A%84%E8%9E%A2%E5%B9%95%E6%93%B7%E5%9C%96.png)\n",
    "\n",
    "## Jieba\n",
    "\n",
    "After implemented jieba to parse phrases. Jieba takes a long time to parse phrases thus I didn't pick to use this method in our class competition.\n"
   ]
  }
 ],
 "metadata": {
  "kernelspec": {
   "display_name": "Python 3",
   "language": "python",
   "name": "python3"
  },
  "language_info": {
   "codemirror_mode": {
    "name": "ipython",
    "version": 3
   },
   "file_extension": ".py",
   "mimetype": "text/x-python",
   "name": "python",
   "nbconvert_exporter": "python",
   "pygments_lexer": "ipython3",
   "version": "3.6.4"
  }
 },
 "nbformat": 4,
 "nbformat_minor": 2
}
